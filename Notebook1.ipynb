{
 "cells": [
  {
   "cell_type": "code",
   "execution_count": null,
   "id": "charming-memory",
   "metadata": {
    "id": "98840aea-a346-4a8a-9edd-b573d85a4bde",
    "tags": []
   },
   "outputs": [],
   "source": [
    "print “hello world”\n"
   ]
  },
  {
   "cell_type": "code",
   "execution_count": null,
   "id": "threatened-reggae",
   "metadata": {
    "id": "02805c50-2681-4f3e-9bef-71ac49ed8e34"
   },
   "outputs": [],
   "source": [
    "print “this notebook was change by a collaborator 2”"
   ]
  }
 ],
 "metadata": {
  "kernelspec": {
   "display_name": "Python 3.9",
   "language": "python",
   "name": "python3"
  },
  "language_info": {
   "codemirror_mode": {
    "name": "ipython",
    "version": 3
   },
   "file_extension": ".py",
   "mimetype": "text/x-python",
   "name": "python",
   "nbconvert_exporter": "python",
   "pygments_lexer": "ipython3",
   "version": "3.9.7"
  }
 },
 "nbformat": 4,
 "nbformat_minor": 5
}
